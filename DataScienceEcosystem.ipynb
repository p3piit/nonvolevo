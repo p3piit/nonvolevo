{
 "cells": [
  {
   "cell_type": "markdown",
   "id": "627f07fc-8c36-46be-8d00-890a3bb49208",
   "metadata": {
    "tags": []
   },
   "source": [
    "# Data Science Tools and Ecosystem"
   ]
  },
  {
   "cell_type": "markdown",
   "id": "865052af-2cbe-47c2-b9aa-ced558c97906",
   "metadata": {},
   "source": [
    "In this notebook, Data Science Tools and Ecosystem are summarized."
   ]
  },
  {
   "cell_type": "markdown",
   "id": "7223b97d-92cb-4f24-aba0-956cf36f5636",
   "metadata": {
    "tags": []
   },
   "source": [
    " **Objectives:**\n",
    " - List popular languages for Data Science\n",
    " - List commonly used libraries for Data Science\n",
    " - List Data Science Tools"
   ]
  },
  {
   "cell_type": "markdown",
   "id": "050f25b6-84cc-4f67-aca3-deff957333cc",
   "metadata": {},
   "source": [
    "Some of the popular languages that Data Scientists use are:\n",
    "\n",
    "1. R\n",
    "2. Python\n",
    "3. Julia"
   ]
  },
  {
   "cell_type": "markdown",
   "id": "a1ff21ec-ff98-4a33-88d0-3eca141df38d",
   "metadata": {},
   "source": [
    "Some of the commonly used libraries used by Data Scientists include:\n",
    "\n",
    "1. dplyr\n",
    "2. tidyr\n",
    "3. ggplot"
   ]
  },
  {
   "cell_type": "markdown",
   "id": "94298996-7fe4-4345-85f9-e3a4d5e26dc3",
   "metadata": {},
   "source": [
    "|Data Science Tools|\n",
    "|-------|\n",
    "|Jupiter Notebook|\n",
    "|Rstudio|\n",
    "|Spyder|"
   ]
  },
  {
   "cell_type": "markdown",
   "id": "ef92ea8d-e10b-4bf8-9bdd-692d66d1ae0b",
   "metadata": {},
   "source": [
    "### Below are a few examples of evaluating arithmetic expressions in Python"
   ]
  },
  {
   "cell_type": "code",
   "execution_count": 1,
   "id": "a42afafe-997b-49dc-85d0-64c427a84790",
   "metadata": {
    "tags": []
   },
   "outputs": [
    {
     "data": {
      "text/plain": [
       "17"
      ]
     },
     "execution_count": 1,
     "metadata": {},
     "output_type": "execute_result"
    }
   ],
   "source": [
    "(3*4)+5\n",
    "#This a simple arithmetic expression to mutiply then add integers"
   ]
  },
  {
   "cell_type": "code",
   "execution_count": 5,
   "id": "d8b7e38b-7225-4169-ad1e-85e7ff305b18",
   "metadata": {
    "tags": []
   },
   "outputs": [
    {
     "data": {
      "text/plain": [
       "3.3333333333333335"
      ]
     },
     "execution_count": 5,
     "metadata": {},
     "output_type": "execute_result"
    }
   ],
   "source": [
    "200/60\n",
    "#This will convert 200 minutes to hours by diving by 60"
   ]
  },
  {
   "cell_type": "markdown",
   "id": "8c2d6cba-5aaa-4b04-a99f-6d74671f1bbd",
   "metadata": {},
   "source": [
    "## Author\n",
    "Paolo"
   ]
  }
 ],
 "metadata": {
  "kernelspec": {
   "display_name": "Python",
   "language": "python",
   "name": "conda-env-python-py"
  },
  "language_info": {
   "codemirror_mode": {
    "name": "ipython",
    "version": 3
   },
   "file_extension": ".py",
   "mimetype": "text/x-python",
   "name": "python",
   "nbconvert_exporter": "python",
   "pygments_lexer": "ipython3",
   "version": "3.7.12"
  }
 },
 "nbformat": 4,
 "nbformat_minor": 5
}
